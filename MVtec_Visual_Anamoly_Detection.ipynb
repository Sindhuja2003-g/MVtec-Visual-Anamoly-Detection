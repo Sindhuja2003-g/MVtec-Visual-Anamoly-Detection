{
  "nbformat": 4,
  "nbformat_minor": 0,
  "metadata": {
    "colab": {
      "provenance": [],
      "gpuType": "T4"
    },
    "kernelspec": {
      "name": "python3",
      "display_name": "Python 3"
    },
    "language_info": {
      "name": "python"
    },
    "accelerator": "GPU"
  },
  "cells": [
    {
      "cell_type": "code",
      "execution_count": null,
      "metadata": {
        "colab": {
          "base_uri": "https://localhost:8080/"
        },
        "collapsed": true,
        "id": "NjSAgDHM7N8u",
        "outputId": "41fe394c-e52a-4cc4-d81f-177542c14a3e"
      },
      "outputs": [
        {
          "output_type": "stream",
          "name": "stdout",
          "text": [
            "Archive:  /content/good.zip\n",
            "replace /content/dataset/good/000.png? [y]es, [n]o, [A]ll, [N]one, [r]ename: no\n",
            "replace /content/dataset/good/001.png? [y]es, [n]o, [A]ll, [N]one, [r]ename: no\n",
            "replace /content/dataset/good/002.png? [y]es, [n]o, [A]ll, [N]one, [r]ename: "
          ]
        }
      ],
      "source": [
        "!unzip /content/good.zip -d /content/dataset/\n"
      ]
    },
    {
      "cell_type": "code",
      "source": [
        "!unzip /content/test.zip -d /content/dataset/"
      ],
      "metadata": {
        "colab": {
          "base_uri": "https://localhost:8080/"
        },
        "collapsed": true,
        "id": "bkKfD75U8XL0",
        "outputId": "78a1b1b0-6eb5-4a97-fcc6-f95b662f6da5"
      },
      "execution_count": null,
      "outputs": [
        {
          "output_type": "stream",
          "name": "stdout",
          "text": [
            "Archive:  /content/test.zip\n",
            "replace /content/dataset/test/broken_large/000.png? [y]es, [n]o, [A]ll, [N]one, [r]ename: "
          ]
        }
      ]
    },
    {
      "cell_type": "code",
      "source": [
        "import torch\n",
        "import torch.nn as nn\n",
        "import torch.optim as optim\n",
        "import torchvision.transforms as transforms\n",
        "from torch.utils.data import Dataset, DataLoader\n",
        "import os\n",
        "import zipfile\n",
        "import numpy as np\n",
        "import matplotlib.pyplot as plt\n",
        "from PIL import Image\n",
        "from sklearn.metrics import accuracy_score, precision_score, recall_score, f1_score\n"
      ],
      "metadata": {
        "id": "2xJBGmG7-Dnx"
      },
      "execution_count": null,
      "outputs": []
    },
    {
      "cell_type": "code",
      "source": [
        "transform = transforms.Compose([\n",
        "    transforms.Resize((128, 128)),\n",
        "    transforms.ToTensor(),\n",
        "    transforms.Normalize((0.5,), (0.5,))\n",
        "])\n"
      ],
      "metadata": {
        "id": "WVZKXkqG-SJx"
      },
      "execution_count": null,
      "outputs": []
    },
    {
      "cell_type": "code",
      "source": [
        "class MVNetTrainDataset(Dataset):\n",
        "    def __init__(self, root_dir, transform=None):\n",
        "        self.root_dir = root_dir\n",
        "        self.transform = transform\n",
        "        self.image_files = [f for f in os.listdir(root_dir) if f.endswith(('.png', '.jpg', '.jpeg'))]\n",
        "\n",
        "    def __len__(self):\n",
        "        return len(self.image_files)\n",
        "\n",
        "    def __getitem__(self, idx):\n",
        "        img_path = os.path.join(self.root_dir, self.image_files[idx])\n",
        "        image = Image.open(img_path).convert(\"RGB\")\n",
        "\n",
        "        if self.transform:\n",
        "            image = self.transform(image)\n",
        "\n",
        "        label = 0  # Training only on normal images\n",
        "        return image, label\n"
      ],
      "metadata": {
        "id": "H8u-GAB--cap"
      },
      "execution_count": null,
      "outputs": []
    },
    {
      "cell_type": "code",
      "source": [
        "class MVNetTestDataset(Dataset):\n",
        "    def __init__(self, root_dir, transform=None):\n",
        "        self.root_dir = root_dir\n",
        "        self.transform = transform\n",
        "        self.image_files = []\n",
        "        self.labels = []\n",
        "\n",
        "\n",
        "        for category in [\"good\", \"contamination\", \"broken_small\", \"broken_large\"]:\n",
        "            folder_path = os.path.join(root_dir, category)\n",
        "            label = 0 if category == \"good\" else 1  # 0 for normal, 1 for anomalies\n",
        "\n",
        "\n",
        "            for file in os.listdir(folder_path):\n",
        "                if file.endswith(('.png', '.jpg', '.jpeg')):\n",
        "                    self.image_files.append(os.path.join(folder_path, file))\n",
        "                    self.labels.append(label)\n",
        "\n",
        "    def __len__(self):\n",
        "        return len(self.image_files)\n",
        "\n",
        "    def __getitem__(self, idx):\n",
        "        img_path = self.image_files[idx]\n",
        "        image = Image.open(img_path).convert(\"RGB\")\n",
        "        label = self.labels[idx]\n",
        "\n",
        "        if self.transform:\n",
        "            image = self.transform(image)\n",
        "\n",
        "        return image, label\n"
      ],
      "metadata": {
        "id": "l-KAHyHU-gww"
      },
      "execution_count": null,
      "outputs": []
    },
    {
      "cell_type": "code",
      "source": [
        "# Define dataset paths\n",
        "train_path = \"/content/dataset/good\"  # Contains only normal images\n",
        "test_path = \"/content/dataset/test\"    # Contains normal & anomalous images\n",
        "\n",
        "# Load datasets\n",
        "train_dataset = MVNetTrainDataset(root_dir=train_path, transform=transform)\n",
        "test_dataset = MVNetTestDataset(root_dir=test_path, transform=transform)\n",
        "\n",
        "# Create DataLoaders\n",
        "train_loader = DataLoader(train_dataset, batch_size=16, shuffle=True)\n",
        "test_loader = DataLoader(test_dataset, batch_size=1, shuffle=False)\n",
        "\n",
        "print(f\"✅ Training images: {len(train_dataset)}\")\n",
        "print(f\"✅ Testing images: {len(test_dataset)}\")\n"
      ],
      "metadata": {
        "colab": {
          "base_uri": "https://localhost:8080/"
        },
        "id": "I6H1e1n9-kKf",
        "outputId": "2bfda8cd-851b-4df9-f134-5b0d88ebd92e"
      },
      "execution_count": null,
      "outputs": [
        {
          "output_type": "stream",
          "name": "stdout",
          "text": [
            "✅ Training images: 209\n",
            "✅ Testing images: 83\n"
          ]
        }
      ]
    },
    {
      "cell_type": "code",
      "source": [
        "device = torch.device(\"cuda\" if torch.cuda.is_available() else \"cpu\")\n",
        "\n"
      ],
      "metadata": {
        "id": "71TiRl0l_Ada"
      },
      "execution_count": null,
      "outputs": []
    },
    {
      "cell_type": "code",
      "source": [
        "\n",
        "import torch\n",
        "import torch.nn as nn\n",
        "from sklearn.svm import OneClassSVM\n",
        "from sklearn.metrics import accuracy_score, classification_report\n",
        "import numpy as np\n",
        "from sklearn.preprocessing import StandardScaler\n",
        "\n",
        "\n",
        "class SimpleCNN(nn.Module):\n",
        "    def __init__(self):\n",
        "        super(SimpleCNN, self).__init__()\n",
        "        self.conv1 = nn.Conv2d(3, 64, kernel_size=3, stride=1, padding=1)\n",
        "        self.conv2 = nn.Conv2d(64, 128, kernel_size=3, stride=1, padding=1)\n",
        "        self.fc1 = nn.Linear(128 * 32 * 32, 512)\n",
        "        self.fc2 = nn.Linear(512, 256)\n",
        "        self.fc3 = nn.Linear(256, 128)\n",
        "\n",
        "    def forward(self, x):\n",
        "        x = torch.relu(self.conv1(x))\n",
        "        x = torch.max_pool2d(x, 2)\n",
        "        x = torch.relu(self.conv2(x))\n",
        "        x = torch.max_pool2d(x, 2)\n",
        "        x = x.view(x.size(0), -1)\n",
        "        x = torch.relu(self.fc1(x))\n",
        "        x = torch.relu(self.fc2(x))\n",
        "        x = self.fc3(x)\n",
        "        return x\n",
        "\n",
        "\n",
        "model = SimpleCNN().to(device)\n",
        "model.eval()"
      ],
      "metadata": {
        "colab": {
          "base_uri": "https://localhost:8080/"
        },
        "id": "t9ElrXsJAb9d",
        "outputId": "f8beee53-c2c7-49fb-9454-0c49994c78a8"
      },
      "execution_count": null,
      "outputs": [
        {
          "output_type": "execute_result",
          "data": {
            "text/plain": [
              "SimpleCNN(\n",
              "  (conv1): Conv2d(3, 64, kernel_size=(3, 3), stride=(1, 1), padding=(1, 1))\n",
              "  (conv2): Conv2d(64, 128, kernel_size=(3, 3), stride=(1, 1), padding=(1, 1))\n",
              "  (fc1): Linear(in_features=131072, out_features=512, bias=True)\n",
              "  (fc2): Linear(in_features=512, out_features=256, bias=True)\n",
              "  (fc3): Linear(in_features=256, out_features=128, bias=True)\n",
              ")"
            ]
          },
          "metadata": {},
          "execution_count": 43
        }
      ]
    },
    {
      "cell_type": "code",
      "source": [
        "\n",
        "def extract_features(loader):\n",
        "    features = []\n",
        "    labels = []\n",
        "\n",
        "    with torch.no_grad():\n",
        "        for images, label in loader:\n",
        "            images = images.to(device)\n",
        "            feature = model(images)  # Extract features\n",
        "            features.append(feature.cpu().numpy())\n",
        "            labels.append(label.cpu().numpy())\n",
        "\n",
        "    return np.concatenate(features, axis=0), np.concatenate(labels, axis=0)\n"
      ],
      "metadata": {
        "id": "BqHU8iVqBtGX"
      },
      "execution_count": null,
      "outputs": []
    },
    {
      "cell_type": "code",
      "source": [
        "\n",
        "train_features, train_labels = extract_features(train_loader)\n",
        "\n",
        "scaler = StandardScaler()\n",
        "train_features = scaler.fit_transform(train_features)\n",
        "X_train_normal = train_features[train_labels == 0]\n",
        "\n",
        "svm = OneClassSVM(nu=0.1, kernel=\"rbf\", gamma='scale')\n",
        "svm.fit(X_train_normal)\n",
        "\n",
        "print(\"✅ One-Class SVM Model Trained!\")\n"
      ],
      "metadata": {
        "colab": {
          "base_uri": "https://localhost:8080/"
        },
        "id": "1ztF6EvMBzoY",
        "outputId": "5a98e462-cbe1-482f-ce69-bac8ce453fac"
      },
      "execution_count": null,
      "outputs": [
        {
          "output_type": "stream",
          "name": "stdout",
          "text": [
            "✅ One-Class SVM Model Trained!\n"
          ]
        }
      ]
    },
    {
      "cell_type": "code",
      "source": [
        "test_features, test_labels = extract_features(test_loader)\n",
        "\n",
        "test_features = scaler.transform(test_features)\n",
        "\n",
        "# Predict using One-Class SVM\n",
        "y_pred_svm = svm.predict(test_features)\n",
        "y_pred_svm = np.where(y_pred_svm == 1, 0, 1)\n",
        "\n",
        "\n",
        "accuracy = accuracy_score(test_labels, y_pred_svm)\n",
        "print(f\"✅ Accuracy: {accuracy:.4f}\")\n",
        "print(f\"✅ Classification Report:\\n{classification_report(test_labels, y_pred_svm)}\")\n"
      ],
      "metadata": {
        "id": "R2Kj7RGYDHRJ",
        "outputId": "d42a935e-3bf4-4a32-a898-8721edf0b69a",
        "colab": {
          "base_uri": "https://localhost:8080/"
        }
      },
      "execution_count": null,
      "outputs": [
        {
          "output_type": "stream",
          "name": "stdout",
          "text": [
            "✅ Accuracy: 0.8193\n",
            "✅ Classification Report:\n",
            "              precision    recall  f1-score   support\n",
            "\n",
            "           0       0.65      0.55      0.59        20\n",
            "           1       0.86      0.90      0.88        63\n",
            "\n",
            "    accuracy                           0.82        83\n",
            "   macro avg       0.76      0.73      0.74        83\n",
            "weighted avg       0.81      0.82      0.81        83\n",
            "\n"
          ]
        }
      ]
    },
    {
      "cell_type": "code",
      "source": [
        "import matplotlib.pyplot as plt\n",
        "from sklearn.metrics import confusion_matrix, ConfusionMatrixDisplay\n",
        "import seaborn as sns\n"
      ],
      "metadata": {
        "id": "qsOB26qvCCyc"
      },
      "execution_count": null,
      "outputs": []
    },
    {
      "cell_type": "code",
      "source": [
        "cm = confusion_matrix(test_labels, y_pred_svm)\n",
        "cm_display = ConfusionMatrixDisplay(confusion_matrix=cm, display_labels=[\"Good (Normal)\", \"Anomalous\"])\n",
        "cm_display.plot(cmap=plt.cm.Blues)\n",
        "\n",
        "plt.title(\"Confusion Matrix - One-Class SVM\")\n",
        "plt.show()\n"
      ],
      "metadata": {
        "colab": {
          "base_uri": "https://localhost:8080/",
          "height": 472
        },
        "id": "CxhbyAPfCF2d",
        "outputId": "df385778-bd30-4dde-b866-6fb7d0fb74bf"
      },
      "execution_count": null,
      "outputs": [
        {
          "output_type": "display_data",
          "data": {
            "text/plain": [
              "<Figure size 640x480 with 2 Axes>"
            ],
            "image/png": "[encoded data removed]"
          },
          "metadata": {}
        }
      ]
    }
  ]
}